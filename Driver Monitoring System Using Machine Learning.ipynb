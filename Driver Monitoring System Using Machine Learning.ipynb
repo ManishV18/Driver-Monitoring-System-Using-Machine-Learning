{
 "cells": [
  {
   "cell_type": "markdown",
   "metadata": {
    "id": "WssGPxvkqeow"
   },
   "source": [
    "# Driver Monitoring System Using Machine Learning\n",
    "\n",
    "\n",
    "To develop a driver monitoring system with the objective of building a Machine learning algorithm for tracking of drivers behavioral attributes.\n",
    "\n",
    "## Dataset Used\n",
    " \n",
    "https://ibug.doc.ic.ac.uk/resources/300-W/\n",
    "\n",
    "• The 300-W is a face dataset that consists of 300 Indoor and 300 Outdoor in-the-wild\n",
    "images. Itcovers a large variation of identity, expression, illumination conditions, pose,\n",
    "occlusion and facesize.\n",
    "\n",
    "• The images were downloaded from google.com by making queries such as party,conference,\n",
    "protests, football and celebrities.\n",
    "\n",
    "\n",
    "## Methodolgy:\n",
    "\n",
    "### Measuring EAR\n",
    "Eye Aspect Ratio (EAR) is used to detect a blink which is the the ratio of vertical distance\n",
    "of the lower and upper eyelids to the horizontal length of an eye. During the eye blinks, the\n",
    "vertical distance of lower and upper eyelids decreases similarly in opened eye after a blink\n",
    "the distance between the respective eyelids tends to increases.\n",
    "\n",
    "<p><img style=\" max-width:800px ;max-height:1200px\" src=\"images/EAR.png\"></p>\n",
    "\n",
    "\n"
   ]
  },
  {
   "cell_type": "code",
   "execution_count": 8,
   "metadata": {
    "executionInfo": {
     "elapsed": 697,
     "status": "ok",
     "timestamp": 1665908549370,
     "user": {
      "displayName": "Manish Vankudre",
      "userId": "18025694243057434259"
     },
     "user_tz": -330
    },
    "id": "ePPIj2zPqeo3"
   },
   "outputs": [],
   "source": [
    "from scipy.spatial import distance\n",
    "from imutils import face_utils\n",
    "import imutils\n",
    "import dlib\n",
    "import cv2\n",
    "import os\n",
    "import winsound"
   ]
  },
  {
   "cell_type": "code",
   "execution_count": 9,
   "metadata": {
    "executionInfo": {
     "elapsed": 8,
     "status": "ok",
     "timestamp": 1665908552548,
     "user": {
      "displayName": "Manish Vankudre",
      "userId": "18025694243057434259"
     },
     "user_tz": -330
    },
    "id": "xSJfIEwVqeo4"
   },
   "outputs": [],
   "source": [
    "def eye_aspect_ratio(eye):\n",
    "\tA = distance.euclidean(eye[1], eye[5])\n",
    "\tB = distance.euclidean(eye[2], eye[4])\n",
    "\tC = distance.euclidean(eye[0], eye[3])\n",
    "\tear = (A + B) / (2.0 * C)\n",
    "\treturn ear"
   ]
  },
  {
   "cell_type": "code",
   "execution_count": 10,
   "metadata": {
    "executionInfo": {
     "elapsed": 580,
     "status": "ok",
     "timestamp": 1665909179139,
     "user": {
      "displayName": "Manish Vankudre",
      "userId": "18025694243057434259"
     },
     "user_tz": -330
    },
    "id": "I2yNAPjrqeo4"
   },
   "outputs": [],
   "source": [
    "thresh = 0.25\n",
    "frame_check = 20\n",
    "detect = dlib.get_frontal_face_detector()\n",
    "predict = dlib.shape_predictor(\"models/shape_predictor_68_face_landmarks.dat\")"
   ]
  },
  {
   "cell_type": "code",
   "execution_count": 11,
   "metadata": {
    "colab": {
     "base_uri": "https://localhost:8080/"
    },
    "executionInfo": {
     "elapsed": 4783,
     "status": "ok",
     "timestamp": 1665909187815,
     "user": {
      "displayName": "Manish Vankudre",
      "userId": "18025694243057434259"
     },
     "user_tz": -330
    },
    "id": "oHNmVr5F43JV",
    "outputId": "66514ebf-64a9-43a7-d19f-3ebc202eb132"
   },
   "outputs": [],
   "source": [
    "#from google.colab import drive\n",
    "#drive.mount('/content/drive')"
   ]
  },
  {
   "cell_type": "code",
   "execution_count": 12,
   "metadata": {
    "executionInfo": {
     "elapsed": 650,
     "status": "ok",
     "timestamp": 1665910243619,
     "user": {
      "displayName": "Manish Vankudre",
      "userId": "18025694243057434259"
     },
     "user_tz": -330
    },
    "id": "8NqYatBsqeo5"
   },
   "outputs": [],
   "source": [
    "(lStart, lEnd) = face_utils.FACIAL_LANDMARKS_IDXS[\"left_eye\"]\n",
    "(rStart, rEnd) = face_utils.FACIAL_LANDMARKS_IDXS[\"right_eye\"]"
   ]
  },
  {
   "cell_type": "code",
   "execution_count": 13,
   "metadata": {
    "colab": {
     "base_uri": "https://localhost:8080/",
     "height": 356
    },
    "executionInfo": {
     "elapsed": 5194,
     "status": "error",
     "timestamp": 1665910436833,
     "user": {
      "displayName": "Manish Vankudre",
      "userId": "18025694243057434259"
     },
     "user_tz": -330
    },
    "id": "zvlP0Vpuqeo6",
    "outputId": "c9bb70be-ffaa-4fd1-8d2d-279c329a3e00"
   },
   "outputs": [],
   "source": [
    "#cap=cv2.VideoCapture(\"http://192.168.29.9:4747/video\")\n",
    "\n",
    "\n",
    "cap=cv2.VideoCapture(0)\n",
    "\n",
    "flag=0\n",
    "while True:\n",
    "    ret, frame=cap.read()\n",
    "    frame = imutils.resize(frame, width=450)\n",
    "    gray = cv2.cvtColor(frame, cv2.COLOR_BGR2GRAY)\n",
    "    subjects = detect(gray, 0)\n",
    "    for subject in subjects:\n",
    "        shape = predict(gray, subject)\n",
    "        shape = face_utils.shape_to_np(shape)#converting to NumPy Array\n",
    "        leftEye = shape[lStart:lEnd]\n",
    "        rightEye = shape[rStart:rEnd]\n",
    "        leftEAR = eye_aspect_ratio(leftEye)\n",
    "        rightEAR = eye_aspect_ratio(rightEye)\n",
    "        ear = (leftEAR + rightEAR) / 2.0\n",
    "        leftEyeHull = cv2.convexHull(leftEye)\n",
    "        rightEyeHull = cv2.convexHull(rightEye)\n",
    "        cv2.drawContours(frame, [leftEyeHull], -1, (0, 255, 0), 1)\n",
    "        cv2.drawContours(frame, [rightEyeHull], -1, (0, 255, 0), 1)\n",
    "        if ear < thresh:\n",
    "            flag += 1\n",
    "            #print (flag)\n",
    "            if flag >= frame_check:\n",
    "                cv2.putText(frame, \"****************ALERT!****************\", (10, 30),\n",
    "                    cv2.FONT_HERSHEY_SIMPLEX, 0.7, (0, 0, 255), 2)\n",
    "                cv2.putText(frame, \"****************ALERT!****************\", (10,325),\n",
    "                    cv2.FONT_HERSHEY_SIMPLEX, 0.7, (0, 0, 255), 2)\n",
    "                winsound.Beep(800, 250)\n",
    "                \n",
    "               \n",
    "        else:\n",
    "            flag = 0\n",
    "    cv2.imshow(\"Camera\", frame)\n",
    "    key = cv2.waitKey(1) & 0xFF\n",
    "    if key == ord(\"q\"):\n",
    "        cv2.destroyAllWindows()\n",
    "        cap.release()\n",
    "    break\n"
   ]
  }
 ],
 "metadata": {
  "colab": {
   "provenance": []
  },
  "kernelspec": {
   "display_name": "Python 3 (ipykernel)",
   "language": "python",
   "name": "python3"
  },
  "language_info": {
   "codemirror_mode": {
    "name": "ipython",
    "version": 3
   },
   "file_extension": ".py",
   "mimetype": "text/x-python",
   "name": "python",
   "nbconvert_exporter": "python",
   "pygments_lexer": "ipython3",
   "version": "3.9.12"
  }
 },
 "nbformat": 4,
 "nbformat_minor": 1
}
